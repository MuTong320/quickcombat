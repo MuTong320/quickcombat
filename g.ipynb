{
 "cells": [
  {
   "cell_type": "code",
   "execution_count": 1,
   "metadata": {},
   "outputs": [],
   "source": [
    "from quickcombat import *"
   ]
  },
  {
   "cell_type": "code",
   "execution_count": 2,
   "metadata": {},
   "outputs": [],
   "source": [
    "ksk = CharacterCard('库斯克', HP=20, AC=18, init_add=2, hit_add=5, hurt_add=3, HPmax=None)\n",
    "战斧 = weapon.martial_melee.battleaxe('屠杀汤姆之斧')\n",
    "ksk.set_weapon(战斧)"
   ]
  },
  {
   "cell_type": "code",
   "execution_count": 3,
   "metadata": {},
   "outputs": [],
   "source": [
    "tom = npc.commoner(name='汤姆')"
   ]
  },
  {
   "cell_type": "code",
   "execution_count": 4,
   "metadata": {},
   "outputs": [],
   "source": [
    "g = Game(file='gamedata.txt')\n",
    "g.add_card(ksk)\n",
    "g.add_room(tom, copy_times=4, arrive=True)"
   ]
  },
  {
   "cell_type": "code",
   "execution_count": 5,
   "metadata": {},
   "outputs": [
    {
     "data": {
      "text/plain": [
       "团队成员：\n",
       "    库斯克 (HP = 20/20)\n",
       "已探明房间：['World', 'room(1)']\n",
       "小队现在位于房间room(1)\n",
       "共4个敌人：\n",
       "    汤姆        （已敌对）(HP = 3/3)\n",
       "    汤姆(2)     （已敌对）(HP = 3/3)\n",
       "    汤姆(3)     （已敌对）(HP = 3/3)\n",
       "    汤姆(4)     （已敌对）(HP = 3/3)\n"
      ]
     },
     "execution_count": 5,
     "metadata": {},
     "output_type": "execute_result"
    }
   ],
   "source": [
    "g"
   ]
  },
  {
   "cell_type": "code",
   "execution_count": 6,
   "metadata": {},
   "outputs": [
    {
     "name": "stdout",
     "output_type": "stream",
     "text": [
      "库斯克的先攻是10.\n",
      "汤姆的先攻是11.\n",
      "汤姆(2)的先攻是6.\n",
      "汤姆(3)的先攻是15.\n",
      "汤姆(4)的先攻是9.\n",
      "先攻列表：\n",
      "    1. 汤姆(3)      (initiative=15) \n",
      "    2. 汤姆         (initiative=11) \n",
      "    3. 库斯克        (initiative=10) \n",
      "    4. 汤姆(4)      (initiative=9) \n",
      "    5. 汤姆(2)      (initiative=6) \n",
      "\n",
      "第1轮战斗：\n",
      "    汤姆(3)用短棍攻击库斯克，但失败了。\n",
      "    汤姆用短棍攻击库斯克，但失败了。\n",
      "    库斯克用屠杀汤姆之斧攻击汤姆(3)，但失败了。\n",
      "    汤姆(4)用短棍攻击库斯克，但失败了。\n",
      "    汤姆(2)用短棍攻击库斯克，但失败了。\n",
      "第2轮战斗：\n",
      "    汤姆(3)用短棍攻击库斯克，但失败了。\n",
      "    汤姆用短棍攻击库斯克，但失败了。\n",
      "    库斯克用屠杀汤姆之斧攻击汤姆(4)大成功，伤害翻倍为10，并杀死了汤姆(4)\n",
      "    汤姆(4)因死亡跳过回合。\n",
      "    汤姆(2)用短棍攻击库斯克，但失败了。\n",
      "第3轮战斗：\n",
      "    汤姆(3)用短棍攻击库斯克，但失败了。\n",
      "    汤姆用短棍攻击库斯克，但失败了。\n",
      "    库斯克用屠杀汤姆之斧攻击汤姆(2)，但失败了。\n",
      "    汤姆(4)因死亡跳过回合。\n",
      "    汤姆(2)用短棍攻击库斯克，但失败了。\n",
      "第4轮战斗：\n",
      "    汤姆(3)用短棍攻击库斯克，但失败了。\n",
      "    汤姆用短棍攻击库斯克，但失败了。\n",
      "    库斯克用屠杀汤姆之斧攻击汤姆(3)成功，伤害为9，并杀死了汤姆(3)\n",
      "    汤姆(4)因死亡跳过回合。\n",
      "    汤姆(2)用短棍攻击库斯克，但失败了。\n",
      "第5轮战斗：\n",
      "    汤姆(3)因死亡跳过回合。\n",
      "    汤姆用短棍攻击库斯克，但失败了。\n",
      "    库斯克用屠杀汤姆之斧攻击汤姆(2)成功，伤害为9，并杀死了汤姆(2)\n",
      "    汤姆(4)因死亡跳过回合。\n",
      "    汤姆(2)因死亡跳过回合。\n",
      "第6轮战斗：\n",
      "    汤姆(3)因死亡跳过回合。\n",
      "    汤姆用短棍攻击库斯克，但失败了。\n",
      "    库斯克用屠杀汤姆之斧攻击汤姆成功，伤害为9，并杀死了汤姆\n",
      "所有敌人已被消灭。\n",
      "团队成员情况：\n",
      "    库斯克       HP=20/20\n",
      "\n"
     ]
    }
   ],
   "source": [
    "g.combat(round=-1)"
   ]
  }
 ],
 "metadata": {
  "interpreter": {
   "hash": "ecf5722fdaf1897a315d257d89d94520bfcaa453217d5becf09b39e73618b0de"
  },
  "kernelspec": {
   "display_name": "Python 3.9.5 ('base')",
   "language": "python",
   "name": "python3"
  },
  "language_info": {
   "codemirror_mode": {
    "name": "ipython",
    "version": 3
   },
   "file_extension": ".py",
   "mimetype": "text/x-python",
   "name": "python",
   "nbconvert_exporter": "python",
   "pygments_lexer": "ipython3",
   "version": "3.9.7"
  },
  "orig_nbformat": 4
 },
 "nbformat": 4,
 "nbformat_minor": 2
}
