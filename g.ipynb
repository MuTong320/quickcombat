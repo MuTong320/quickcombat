{
 "cells": [
  {
   "cell_type": "code",
   "execution_count": 30,
   "metadata": {},
   "outputs": [],
   "source": [
    "from quickcombat import *"
   ]
  },
  {
   "cell_type": "code",
   "execution_count": 31,
   "metadata": {},
   "outputs": [],
   "source": [
    "ksk = CharacterCard('库斯克', HP=20, AC=18, init_add=2, hit_add=5, hurt_rand=6, hurt_add=2, HPmax=None)\n",
    "com = CharacterCard('平民')"
   ]
  },
  {
   "cell_type": "code",
   "execution_count": 32,
   "metadata": {},
   "outputs": [],
   "source": [
    "g = Game(file='gamedata.txt')\n",
    "g.add_card(ksk)\n",
    "g.add_room(com, com, com, arrive=True)"
   ]
  },
  {
   "cell_type": "code",
   "execution_count": 33,
   "metadata": {},
   "outputs": [
    {
     "data": {
      "text/plain": [
       "团队成员：\n",
       "    库斯克 (HP = 20/20)\n",
       "已探明房间：['origin', 'room(1)']\n",
       "小队现在位于房间room(1)\n",
       "共3个敌人：\n",
       "    平民        （已敌对）(HP = 4/4)\n",
       "    平民(2)     （已敌对）(HP = 4/4)\n",
       "    平民(3)     （已敌对）(HP = 4/4)\n"
      ]
     },
     "execution_count": 33,
     "metadata": {},
     "output_type": "execute_result"
    }
   ],
   "source": [
    "g"
   ]
  },
  {
   "cell_type": "code",
   "execution_count": 34,
   "metadata": {},
   "outputs": [
    {
     "name": "stdout",
     "output_type": "stream",
     "text": [
      "库斯克的先攻是14.\n",
      "平民的先攻是5.\n",
      "平民(2)的先攻是20.\n",
      "平民(3)的先攻是20.\n",
      "先攻列表：\n",
      "    1. 平民(3)      (d20+0=20) \n",
      "    2. 平民(2)      (d20+0=20) \n",
      "    3. 库斯克        (d20+2=14) \n",
      "    4. 平民         (d20+0=5) \n",
      "\n",
      "第1轮战斗：\n",
      "    平民(3)攻击库斯克，但失败了。\n",
      "    平民(2)攻击库斯克，但失败了。\n",
      "    库斯克攻击平民(2)（大失败，对自身造成1伤害）\n",
      "    平民攻击库斯克（大成功）成功，伤害为2，但库斯克仍然存活。\n",
      "第2轮战斗：\n",
      "    平民(3)攻击库斯克，但失败了。\n",
      "    平民(2)攻击库斯克成功，伤害为4，但库斯克仍然存活。\n",
      "    库斯克攻击平民成功，伤害为8，并击杀平民。\n",
      "    跳过平民\n",
      "第3轮战斗：\n",
      "    平民(3)攻击库斯克，但失败了。\n",
      "    平民(2)攻击库斯克，但失败了。\n",
      "    库斯克攻击平民(3)成功，伤害为3，但平民(3)仍然存活。\n",
      "    跳过平民\n",
      "第4轮战斗：\n",
      "    平民(3)攻击库斯克，但失败了。\n",
      "    平民(2)攻击库斯克，但失败了。\n",
      "    库斯克攻击平民(3)成功，伤害为5，并击杀平民(3)。\n",
      "    跳过平民\n",
      "第5轮战斗：\n",
      "    跳过平民(3)\n",
      "    平民(2)攻击库斯克（大失败，对自身造成6伤害）\n",
      "    库斯克攻击平民(2)成功，伤害为6，并击杀平民(2)。\n",
      "所有敌人已被消灭。\n"
     ]
    }
   ],
   "source": [
    "g.combat(round=-1)"
   ]
  }
 ],
 "metadata": {
  "interpreter": {
   "hash": "ecf5722fdaf1897a315d257d89d94520bfcaa453217d5becf09b39e73618b0de"
  },
  "kernelspec": {
   "display_name": "Python 3.9.5 ('base')",
   "language": "python",
   "name": "python3"
  },
  "language_info": {
   "codemirror_mode": {
    "name": "ipython",
    "version": 3
   },
   "file_extension": ".py",
   "mimetype": "text/x-python",
   "name": "python",
   "nbconvert_exporter": "python",
   "pygments_lexer": "ipython3",
   "version": "3.9.7"
  },
  "orig_nbformat": 4
 },
 "nbformat": 4,
 "nbformat_minor": 2
}
